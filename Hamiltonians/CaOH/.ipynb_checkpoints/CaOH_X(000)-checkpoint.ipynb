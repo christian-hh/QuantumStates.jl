{
 "cells": [
  {
   "cell_type": "code",
   "execution_count": 49,
   "id": "4ebeb064",
   "metadata": {
    "tags": []
   },
   "outputs": [],
   "source": [
    "using QuantumStates"
   ]
  },
  {
   "cell_type": "code",
   "execution_count": 1,
   "id": "83847b16",
   "metadata": {
    "tags": []
   },
   "outputs": [],
   "source": [
    "H_operator = :(\n",
    "    BX * Rotation + \n",
    "    DX * RotationDistortion + \n",
    "    γX * SpinRotation + \n",
    "    bFX * Hyperfine_IS + \n",
    "    cX * (Hyperfine_Dipolar/3)\n",
    ")\n",
    ";"
   ]
  },
  {
   "cell_type": "code",
   "execution_count": 2,
   "id": "ab3934ea",
   "metadata": {
    "tags": []
   },
   "outputs": [
    {
     "ename": "LoadError",
     "evalue": "LoadError: UndefVarError: `@params` not defined\nin expression starting at In[2]:1",
     "output_type": "error",
     "traceback": [
      "LoadError: UndefVarError: `@params` not defined\nin expression starting at In[2]:1",
      ""
     ]
    }
   ],
   "source": [
    "parameters = @params begin\n",
    "    BX = 11633.6\n",
    "    DX = 4.8078e-7\n",
    "    γX = -9.2254\n",
    "    bFX = -762.976 - 9.412 # bFx = b + c/3\n",
    "    cX = -28.236\n",
    "end\n",
    ";"
   ]
  },
  {
   "cell_type": "code",
   "execution_count": 3,
   "id": "2802412d",
   "metadata": {
    "tags": []
   },
   "outputs": [
    {
     "ename": "LoadError",
     "evalue": "UndefVarError: `enumerate_states` not defined",
     "output_type": "error",
     "traceback": [
      "UndefVarError: `enumerate_states` not defined",
      "",
      "Stacktrace:",
      " [1] top-level scope",
      "   @ In[3]:8"
     ]
    }
   ],
   "source": [
    "QN_bounds = (\n",
    "    label = \"X\", \n",
    "    S = 1/2, \n",
    "    I = 1/2, \n",
    "    Λ = 0, \n",
    "    N = 0:5\n",
    ")\n",
    "basis = order_basis_by_m(enumerate_states(HundsCaseB_LinearMolecule, QN_bounds))\n",
    ";"
   ]
  },
  {
   "cell_type": "code",
   "execution_count": 4,
   "id": "241c562c",
   "metadata": {
    "tags": []
   },
   "outputs": [
    {
     "ename": "LoadError",
     "evalue": "UndefVarError: `basis` not defined",
     "output_type": "error",
     "traceback": [
      "UndefVarError: `basis` not defined",
      "",
      "Stacktrace:",
      " [1] top-level scope",
      "   @ .\\timing.jl:279 [inlined]",
      " [2] top-level scope",
      "   @ .\\In[4]:0"
     ]
    }
   ],
   "source": [
    "CaOH_X000 = @time Hamiltonian(basis=basis, operator=H_operator, parameters=parameters)\n",
    "@time evaluate!(CaOH_X000)\n",
    "@time solve!(CaOH_X000)\n",
    ";"
   ]
  },
  {
   "cell_type": "code",
   "execution_count": 54,
   "id": "19b0a5a1",
   "metadata": {
    "tags": []
   },
   "outputs": [
    {
     "name": "stdout",
     "output_type": "stream",
     "text": [
      "  0.004153 seconds (11.87 k allocations: 260.727 KiB)\n"
     ]
    }
   ],
   "source": [
    "@time save_to_file(CaOH_X000, \"CaOH_X000\", \"\")"
   ]
  },
  {
   "cell_type": "code",
   "execution_count": null,
   "id": "3f954724-ff89-4e35-98ad-4bfe7f96e2e6",
   "metadata": {},
   "outputs": [],
   "source": []
  }
 ],
 "metadata": {
  "kernelspec": {
   "display_name": "Julia 1.10.5",
   "language": "julia",
   "name": "julia-1.10"
  },
  "language_info": {
   "file_extension": ".jl",
   "mimetype": "application/julia",
   "name": "julia",
   "version": "1.10.5"
  }
 },
 "nbformat": 4,
 "nbformat_minor": 5
}
